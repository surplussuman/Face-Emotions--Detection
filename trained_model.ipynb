{
 "cells": [
  {
   "cell_type": "code",
   "execution_count": 1,
   "id": "96dc0c1c",
   "metadata": {},
   "outputs": [],
   "source": [
    "# import required packages\n",
    "import cv2\n",
    "from keras.models import Sequential\n",
    "from keras.layers import Conv2D, MaxPooling2D, Dense, Dropout, Flatten\n",
    "from tensorflow.keras.optimizers import Adam\n",
    "from keras.preprocessing.image import ImageDataGenerator"
   ]
  },
  {
   "cell_type": "code",
   "execution_count": 2,
   "id": "d0ffa7c2",
   "metadata": {},
   "outputs": [
    {
     "name": "stdout",
     "output_type": "stream",
     "text": [
      "Collecting Adam\n",
      "  Downloading adam-0.0.0.dev0-py2.py3-none-any.whl (2.6 kB)\n",
      "Installing collected packages: Adam\n",
      "Successfully installed Adam-0.0.0.dev0\n"
     ]
    },
    {
     "name": "stderr",
     "output_type": "stream",
     "text": [
      "\n",
      "[notice] A new release of pip available: 22.2.2 -> 22.3.1\n",
      "[notice] To update, run: python.exe -m pip install --upgrade pip\n"
     ]
    }
   ],
   "source": [
    "!pip install Adam"
   ]
  },
  {
   "cell_type": "code",
   "execution_count": 4,
   "id": "fe098d8d",
   "metadata": {},
   "outputs": [
    {
     "name": "stdout",
     "output_type": "stream",
     "text": [
      "Requirement already satisfied: pip in c:\\users\\surpl\\anaconda3\\envs\\tensor-env\\lib\\site-packages (22.2.2)"
     ]
    },
    {
     "name": "stderr",
     "output_type": "stream",
     "text": [
      "ERROR: To modify pip, please run the following command:\n",
      "C:\\Users\\surpl\\anaconda3\\envs\\tensor-env\\python.exe -m pip install --upgrade pip\n",
      "\n",
      "[notice] A new release of pip available: 22.2.2 -> 22.3.1\n",
      "[notice] To update, run: python.exe -m pip install --upgrade pip\n"
     ]
    },
    {
     "name": "stdout",
     "output_type": "stream",
     "text": [
      "\n",
      "Collecting pip\n",
      "  Downloading pip-22.3.1-py3-none-any.whl (2.1 MB)\n",
      "     ---------------------------------------- 2.1/2.1 MB 1.1 MB/s eta 0:00:00\n"
     ]
    }
   ],
   "source": [
    "!pip install --upgrade pip"
   ]
  },
  {
   "cell_type": "code",
   "execution_count": 3,
   "id": "80aa56e1",
   "metadata": {},
   "outputs": [],
   "source": [
    "# Initialize image data generator with rescaling\n",
    "train_data_gen = ImageDataGenerator(rescale=1./255)\n",
    "validation_data_gen = ImageDataGenerator(rescale=1./255)"
   ]
  },
  {
   "cell_type": "code",
   "execution_count": 4,
   "id": "17364995",
   "metadata": {},
   "outputs": [
    {
     "name": "stdout",
     "output_type": "stream",
     "text": [
      "Found 28709 images belonging to 7 classes.\n",
      "Found 7178 images belonging to 7 classes.\n"
     ]
    }
   ],
   "source": [
    "# Preprocess all test images\n",
    "train_generator = train_data_gen.flow_from_directory(\n",
    "        'data/train',\n",
    "        target_size=(48, 48),\n",
    "        batch_size=128,\n",
    "        color_mode=\"grayscale\",\n",
    "        class_mode='categorical')\n",
    "\n",
    "# Preprocess all train images\n",
    "validation_generator = validation_data_gen.flow_from_directory(\n",
    "        'data/test',\n",
    "        target_size=(48, 48),\n",
    "        batch_size=128,\n",
    "        color_mode=\"grayscale\",\n",
    "        class_mode='categorical')"
   ]
  },
  {
   "cell_type": "code",
   "execution_count": 5,
   "id": "2a26a87c",
   "metadata": {},
   "outputs": [
    {
     "name": "stdout",
     "output_type": "stream",
     "text": [
      "Model: \"sequential\"\n",
      "_________________________________________________________________\n",
      "Layer (type)                 Output Shape              Param #   \n",
      "=================================================================\n",
      "conv2d (Conv2D)              (None, 46, 46, 32)        320       \n",
      "_________________________________________________________________\n",
      "conv2d_1 (Conv2D)            (None, 44, 44, 64)        18496     \n",
      "_________________________________________________________________\n",
      "max_pooling2d (MaxPooling2D) (None, 22, 22, 64)        0         \n",
      "_________________________________________________________________\n",
      "dropout (Dropout)            (None, 22, 22, 64)        0         \n",
      "_________________________________________________________________\n",
      "conv2d_2 (Conv2D)            (None, 20, 20, 128)       73856     \n",
      "_________________________________________________________________\n",
      "max_pooling2d_1 (MaxPooling2 (None, 10, 10, 128)       0         \n",
      "_________________________________________________________________\n",
      "conv2d_3 (Conv2D)            (None, 8, 8, 128)         147584    \n",
      "_________________________________________________________________\n",
      "max_pooling2d_2 (MaxPooling2 (None, 4, 4, 128)         0         \n",
      "_________________________________________________________________\n",
      "dropout_1 (Dropout)          (None, 4, 4, 128)         0         \n",
      "_________________________________________________________________\n",
      "flatten (Flatten)            (None, 2048)              0         \n",
      "_________________________________________________________________\n",
      "dense (Dense)                (None, 1024)              2098176   \n",
      "_________________________________________________________________\n",
      "dropout_2 (Dropout)          (None, 1024)              0         \n",
      "_________________________________________________________________\n",
      "dense_1 (Dense)              (None, 7)                 7175      \n",
      "=================================================================\n",
      "Total params: 2,345,607\n",
      "Trainable params: 2,345,607\n",
      "Non-trainable params: 0\n",
      "_________________________________________________________________\n",
      "None\n"
     ]
    }
   ],
   "source": [
    "# create model structure\n",
    "emotion_model = Sequential()\n",
    "\n",
    "emotion_model.add(Conv2D(32, kernel_size=(3, 3), activation='relu', input_shape=(48, 48, 1)))\n",
    "emotion_model.add(Conv2D(64, kernel_size=(3, 3), activation='relu'))\n",
    "emotion_model.add(MaxPooling2D(pool_size=(2, 2)))\n",
    "emotion_model.add(Dropout(0.25))\n",
    "\n",
    "emotion_model.add(Conv2D(128, kernel_size=(3, 3), activation='relu'))\n",
    "emotion_model.add(MaxPooling2D(pool_size=(2, 2)))\n",
    "emotion_model.add(Conv2D(128, kernel_size=(3, 3), activation='relu'))\n",
    "emotion_model.add(MaxPooling2D(pool_size=(2, 2)))\n",
    "emotion_model.add(Dropout(0.25))\n",
    "\n",
    "emotion_model.add(Flatten())\n",
    "emotion_model.add(Dense(1024, activation='relu'))\n",
    "emotion_model.add(Dropout(0.5))\n",
    "emotion_model.add(Dense(7, activation='softmax'))\n",
    "\n",
    "cv2.ocl.setUseOpenCL(False)\n",
    "\n",
    "emotion_model.compile(loss='categorical_crossentropy', optimizer=Adam(learning_rate=0.0001, decay=1e-6), metrics=['accuracy'])\n",
    "\n",
    "print(emotion_model.summary())"
   ]
  },
  {
   "cell_type": "code",
   "execution_count": 7,
   "id": "0e767081",
   "metadata": {
    "scrolled": true
   },
   "outputs": [
    {
     "name": "stdout",
     "output_type": "stream",
     "text": [
      "Epoch 1/50\n",
      "224/224 [==============================] - 1217s 5s/step - loss: 1.8219 - accuracy: 0.2452 - val_loss: 1.8183 - val_accuracy: 0.2471\n",
      "Epoch 2/50\n",
      "224/224 [==============================] - 703s 3s/step - loss: 1.7265 - accuracy: 0.3049 - val_loss: 1.6414 - val_accuracy: 0.3739\n",
      "Epoch 3/50\n",
      "224/224 [==============================] - 630s 3s/step - loss: 1.6141 - accuracy: 0.3740 - val_loss: 1.5616 - val_accuracy: 0.4043\n",
      "Epoch 4/50\n",
      "224/224 [==============================] - 635s 3s/step - loss: 1.5528 - accuracy: 0.4024 - val_loss: 1.5045 - val_accuracy: 0.4301\n",
      "Epoch 5/50\n",
      "224/224 [==============================] - 635s 3s/step - loss: 1.5034 - accuracy: 0.4231 - val_loss: 1.4562 - val_accuracy: 0.4453\n",
      "Epoch 6/50\n",
      "224/224 [==============================] - 640s 3s/step - loss: 1.4579 - accuracy: 0.4401 - val_loss: 1.4388 - val_accuracy: 0.4459\n",
      "Epoch 7/50\n",
      "224/224 [==============================] - 640s 3s/step - loss: 1.4199 - accuracy: 0.4559 - val_loss: 1.3917 - val_accuracy: 0.4690\n",
      "Epoch 8/50\n",
      "224/224 [==============================] - 632s 3s/step - loss: 1.3870 - accuracy: 0.4701 - val_loss: 1.3608 - val_accuracy: 0.4794\n",
      "Epoch 9/50\n",
      "224/224 [==============================] - 635s 3s/step - loss: 1.3517 - accuracy: 0.4852 - val_loss: 1.3326 - val_accuracy: 0.4902\n",
      "Epoch 10/50\n",
      "224/224 [==============================] - 630s 3s/step - loss: 1.3183 - accuracy: 0.4988 - val_loss: 1.3049 - val_accuracy: 0.4994\n",
      "Epoch 11/50\n",
      "224/224 [==============================] - 631s 3s/step - loss: 1.2958 - accuracy: 0.5101 - val_loss: 1.2759 - val_accuracy: 0.5149\n",
      "Epoch 12/50\n",
      "224/224 [==============================] - 630s 3s/step - loss: 1.2659 - accuracy: 0.5248 - val_loss: 1.2603 - val_accuracy: 0.5191\n",
      "Epoch 13/50\n",
      "224/224 [==============================] - 637s 3s/step - loss: 1.2429 - accuracy: 0.5308 - val_loss: 1.2409 - val_accuracy: 0.5307\n",
      "Epoch 14/50\n",
      "224/224 [==============================] - 637s 3s/step - loss: 1.2184 - accuracy: 0.5415 - val_loss: 1.2270 - val_accuracy: 0.5359\n",
      "Epoch 15/50\n",
      "224/224 [==============================] - 631s 3s/step - loss: 1.1979 - accuracy: 0.5490 - val_loss: 1.2205 - val_accuracy: 0.5381\n",
      "Epoch 16/50\n",
      "224/224 [==============================] - 626s 3s/step - loss: 1.1749 - accuracy: 0.5612 - val_loss: 1.1970 - val_accuracy: 0.5474\n",
      "Epoch 17/50\n",
      "224/224 [==============================] - 627s 3s/step - loss: 1.1575 - accuracy: 0.5671 - val_loss: 1.1832 - val_accuracy: 0.5477\n",
      "Epoch 18/50\n",
      "224/224 [==============================] - 634s 3s/step - loss: 1.1402 - accuracy: 0.5721 - val_loss: 1.1751 - val_accuracy: 0.5534\n",
      "Epoch 19/50\n",
      "224/224 [==============================] - 627s 3s/step - loss: 1.1177 - accuracy: 0.5812 - val_loss: 1.1641 - val_accuracy: 0.5619\n",
      "Epoch 20/50\n",
      "224/224 [==============================] - 636s 3s/step - loss: 1.1019 - accuracy: 0.5896 - val_loss: 1.1585 - val_accuracy: 0.5626\n",
      "Epoch 21/50\n",
      "224/224 [==============================] - 631s 3s/step - loss: 1.0820 - accuracy: 0.5991 - val_loss: 1.1595 - val_accuracy: 0.5615\n",
      "Epoch 22/50\n",
      "224/224 [==============================] - 631s 3s/step - loss: 1.0680 - accuracy: 0.6018 - val_loss: 1.1430 - val_accuracy: 0.5685\n",
      "Epoch 23/50\n",
      "224/224 [==============================] - 652s 3s/step - loss: 1.0456 - accuracy: 0.6153 - val_loss: 1.1452 - val_accuracy: 0.5696\n",
      "Epoch 24/50\n",
      "224/224 [==============================] - 676s 3s/step - loss: 1.0336 - accuracy: 0.6204 - val_loss: 1.1306 - val_accuracy: 0.5745\n",
      "Epoch 25/50\n",
      "224/224 [==============================] - 655s 3s/step - loss: 1.0160 - accuracy: 0.6247 - val_loss: 1.1259 - val_accuracy: 0.5771\n",
      "Epoch 26/50\n",
      "224/224 [==============================] - 626s 3s/step - loss: 0.9903 - accuracy: 0.6341 - val_loss: 1.1210 - val_accuracy: 0.5788\n",
      "Epoch 27/50\n",
      "224/224 [==============================] - 627s 3s/step - loss: 0.9802 - accuracy: 0.6375 - val_loss: 1.1250 - val_accuracy: 0.5826\n",
      "Epoch 28/50\n",
      "224/224 [==============================] - 628s 3s/step - loss: 0.9632 - accuracy: 0.6442 - val_loss: 1.1052 - val_accuracy: 0.5894\n",
      "Epoch 29/50\n",
      "224/224 [==============================] - 632s 3s/step - loss: 0.9482 - accuracy: 0.6508 - val_loss: 1.1168 - val_accuracy: 0.5861\n",
      "Epoch 30/50\n",
      "224/224 [==============================] - 634s 3s/step - loss: 0.9281 - accuracy: 0.6570 - val_loss: 1.1114 - val_accuracy: 0.5861\n",
      "Epoch 31/50\n",
      "224/224 [==============================] - 635s 3s/step - loss: 0.9090 - accuracy: 0.6655 - val_loss: 1.0945 - val_accuracy: 0.5918\n",
      "Epoch 32/50\n",
      "224/224 [==============================] - 637s 3s/step - loss: 0.8974 - accuracy: 0.6706 - val_loss: 1.0952 - val_accuracy: 0.5968\n",
      "Epoch 33/50\n",
      "224/224 [==============================] - 633s 3s/step - loss: 0.8796 - accuracy: 0.6763 - val_loss: 1.0931 - val_accuracy: 0.5926\n",
      "Epoch 34/50\n",
      "224/224 [==============================] - 628s 3s/step - loss: 0.8608 - accuracy: 0.6869 - val_loss: 1.1049 - val_accuracy: 0.5864\n",
      "Epoch 35/50\n",
      "224/224 [==============================] - 633s 3s/step - loss: 0.8416 - accuracy: 0.6930 - val_loss: 1.0903 - val_accuracy: 0.6004\n",
      "Epoch 36/50\n",
      "224/224 [==============================] - 632s 3s/step - loss: 0.8249 - accuracy: 0.6979 - val_loss: 1.0950 - val_accuracy: 0.5984\n",
      "Epoch 37/50\n",
      "224/224 [==============================] - 632s 3s/step - loss: 0.8119 - accuracy: 0.7022 - val_loss: 1.0922 - val_accuracy: 0.6032\n",
      "Epoch 38/50\n",
      "224/224 [==============================] - 629s 3s/step - loss: 0.7910 - accuracy: 0.7131 - val_loss: 1.0903 - val_accuracy: 0.6009\n",
      "Epoch 39/50\n",
      "224/224 [==============================] - 629s 3s/step - loss: 0.7772 - accuracy: 0.7171 - val_loss: 1.0875 - val_accuracy: 0.6070\n",
      "Epoch 40/50\n",
      "224/224 [==============================] - 629s 3s/step - loss: 0.7622 - accuracy: 0.7216 - val_loss: 1.0850 - val_accuracy: 0.6041\n",
      "Epoch 41/50\n",
      "224/224 [==============================] - 630s 3s/step - loss: 0.7441 - accuracy: 0.7285 - val_loss: 1.0953 - val_accuracy: 0.6016\n",
      "Epoch 42/50\n",
      "224/224 [==============================] - 633s 3s/step - loss: 0.7257 - accuracy: 0.7340 - val_loss: 1.0945 - val_accuracy: 0.6077\n",
      "Epoch 43/50\n",
      "224/224 [==============================] - 634s 3s/step - loss: 0.7136 - accuracy: 0.7398 - val_loss: 1.0951 - val_accuracy: 0.6063\n",
      "Epoch 44/50\n",
      "224/224 [==============================] - 630s 3s/step - loss: 0.7007 - accuracy: 0.7446 - val_loss: 1.0867 - val_accuracy: 0.6080\n",
      "Epoch 45/50\n",
      "224/224 [==============================] - 630s 3s/step - loss: 0.6789 - accuracy: 0.7551 - val_loss: 1.1012 - val_accuracy: 0.6076\n",
      "Epoch 46/50\n",
      "224/224 [==============================] - 630s 3s/step - loss: 0.6679 - accuracy: 0.7549 - val_loss: 1.0926 - val_accuracy: 0.6056\n",
      "Epoch 47/50\n",
      "224/224 [==============================] - 633s 3s/step - loss: 0.6532 - accuracy: 0.7660 - val_loss: 1.0982 - val_accuracy: 0.6077\n",
      "Epoch 48/50\n",
      "224/224 [==============================] - 633s 3s/step - loss: 0.6328 - accuracy: 0.7709 - val_loss: 1.1020 - val_accuracy: 0.6130\n",
      "Epoch 49/50\n",
      "224/224 [==============================] - 634s 3s/step - loss: 0.6193 - accuracy: 0.7745 - val_loss: 1.1001 - val_accuracy: 0.6154\n",
      "Epoch 50/50\n",
      "224/224 [==============================] - 628s 3s/step - loss: 0.6037 - accuracy: 0.7815 - val_loss: 1.1184 - val_accuracy: 0.6122\n"
     ]
    }
   ],
   "source": [
    "# Train the neural network/model\n",
    "emotion_model_info = emotion_model.fit(\n",
    "        train_generator,\n",
    "        steps_per_epoch=28709 // 128,\n",
    "        epochs=50,\n",
    "        validation_data=validation_generator,\n",
    "        validation_steps=7178 // 128)"
   ]
  },
  {
   "cell_type": "code",
   "execution_count": 8,
   "id": "18f4eb9b",
   "metadata": {},
   "outputs": [],
   "source": [
    "acc=emotion_model_info.history['accuracy']\n",
    "val_acc=emotion_model_info.history['val_accuracy']\n",
    "loss=emotion_model_info.history['loss']\n",
    "val_loss=emotion_model_info.history['val_loss']"
   ]
  },
  {
   "cell_type": "code",
   "execution_count": 9,
   "id": "ba2d49a7",
   "metadata": {},
   "outputs": [
    {
     "name": "stdout",
     "output_type": "stream",
     "text": [
      "0.7815331816673279\n",
      "0.6037284731864929\n"
     ]
    }
   ],
   "source": [
    "print(max(acc))\n",
    "print(min(loss))"
   ]
  },
  {
   "cell_type": "code",
   "execution_count": 10,
   "id": "8f378d61",
   "metadata": {},
   "outputs": [],
   "source": [
    "# save model structure in jason file\n",
    "model_json = emotion_model.to_json()\n",
    "with open(\"emotion_model.json\", \"w\") as json_file:\n",
    "    json_file.write(model_json)\n",
    "\n",
    "# save trained model weight in .h5 file\n",
    "emotion_model.save_weights('emotion_model.h5')"
   ]
  },
  {
   "cell_type": "code",
   "execution_count": null,
   "id": "c231ae06",
   "metadata": {},
   "outputs": [],
   "source": []
  }
 ],
 "metadata": {
  "kernelspec": {
   "display_name": "Python 3 (ipykernel)",
   "language": "python",
   "name": "python3"
  },
  "language_info": {
   "codemirror_mode": {
    "name": "ipython",
    "version": 3
   },
   "file_extension": ".py",
   "mimetype": "text/x-python",
   "name": "python",
   "nbconvert_exporter": "python",
   "pygments_lexer": "ipython3",
   "version": "3.9.12"
  }
 },
 "nbformat": 4,
 "nbformat_minor": 5
}
